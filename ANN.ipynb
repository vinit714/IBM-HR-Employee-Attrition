{
 "cells": [
  {
   "cell_type": "markdown",
   "metadata": {},
   "source": [
    "# IBM HR Employee Attrition\n",
    "\n",
    "### ANN Classification\n",
    "\n",
    "| Model Name | Accuaracy | Kappa Score | ROC AUC Curve value |\n",
    "| ------------ | ---------------- | ---------------- | ---------------- | \n",
    "| ANN | 85% | 0.42 | 0.68 |"
   ]
  },
  {
   "cell_type": "code",
   "execution_count": 22,
   "metadata": {},
   "outputs": [
    {
     "name": "stdout",
     "output_type": "stream",
     "text": [
      "==================== BLOCK 1 Started! ======================\n",
      "==================== Packages Loaded ======================\n"
     ]
    }
   ],
   "source": [
    "#Loading all Packages\n",
    "print(\"==================== BLOCK 1 Started! ======================\")\n",
    "\n",
    "import pymysql\n",
    "import pandas as pd\n",
    "pd.options.display.max_rows=10\n",
    "pd.options.display.max_columns=50\n",
    "from imblearn.over_sampling import SMOTE\n",
    "import numpy as np\n",
    "n=40\n",
    "import warnings\n",
    "warnings.filterwarnings('ignore')\n",
    "import time\n",
    "import sklearn\n",
    "from sklearn import svm\n",
    "from sklearn.model_selection import train_test_split, cross_val_score\n",
    "from sklearn.metrics import roc_curve,auc\n",
    "import matplotlib.pyplot as plt\n",
    "from sklearn.metrics import confusion_matrix, classification_report, precision_score\n",
    "%matplotlib inline\n",
    "\n",
    "print(\"==================== Packages Loaded ======================\")"
   ]
  },
  {
   "cell_type": "code",
   "execution_count": 23,
   "metadata": {},
   "outputs": [
    {
     "name": "stdout",
     "output_type": "stream",
     "text": [
      "==================== Data Loading ======================\n",
      "<class 'pandas.core.frame.DataFrame'>\n",
      "RangeIndex: 1470 entries, 0 to 1469\n",
      "Data columns (total 52 columns):\n",
      " #   Column                             Non-Null Count  Dtype\n",
      "---  ------                             --------------  -----\n",
      " 0   Unnamed: 0                         1470 non-null   int64\n",
      " 1   Age                                1470 non-null   int64\n",
      " 2   Attrition                          1470 non-null   int64\n",
      " 3   BusinessTravel                     1470 non-null   int64\n",
      " 4   DailyRate                          1470 non-null   int64\n",
      " 5   DistanceFromHome                   1470 non-null   int64\n",
      " 6   Education                          1470 non-null   int64\n",
      " 7   EmployeeCount                      1470 non-null   int64\n",
      " 8   EmployeeNumber                     1470 non-null   int64\n",
      " 9   EnvironmentSatisfaction            1470 non-null   int64\n",
      " 10  HourlyRate                         1470 non-null   int64\n",
      " 11  JobInvolvement                     1470 non-null   int64\n",
      " 12  JobLevel                           1470 non-null   int64\n",
      " 13  JobSatisfaction                    1470 non-null   int64\n",
      " 14  MonthlyIncome                      1470 non-null   int64\n",
      " 15  MonthlyRate                        1470 non-null   int64\n",
      " 16  NumCompaniesWorked                 1470 non-null   int64\n",
      " 17  OverTime                           1470 non-null   int64\n",
      " 18  PercentSalaryHike                  1470 non-null   int64\n",
      " 19  PerformanceRating                  1470 non-null   int64\n",
      " 20  RelationshipSatisfaction           1470 non-null   int64\n",
      " 21  StockOptionLevel                   1470 non-null   int64\n",
      " 22  TotalWorkingYears                  1470 non-null   int64\n",
      " 23  TrainingTimesLastYear              1470 non-null   int64\n",
      " 24  WorkLifeBalance                    1470 non-null   int64\n",
      " 25  YearsAtCompany                     1470 non-null   int64\n",
      " 26  YearsInCurrentRole                 1470 non-null   int64\n",
      " 27  YearsSinceLastPromotion            1470 non-null   int64\n",
      " 28  YearsWithCurrManager               1470 non-null   int64\n",
      " 29  Department_Human Resources         1470 non-null   bool \n",
      " 30  Department_Research & Development  1470 non-null   bool \n",
      " 31  Department_Sales                   1470 non-null   bool \n",
      " 32  EducationField_Human Resources     1470 non-null   bool \n",
      " 33  EducationField_Life Sciences       1470 non-null   bool \n",
      " 34  EducationField_Marketing           1470 non-null   bool \n",
      " 35  EducationField_Medical             1470 non-null   bool \n",
      " 36  EducationField_Other               1470 non-null   bool \n",
      " 37  EducationField_Technical Degree    1470 non-null   bool \n",
      " 38  Gender_Female                      1470 non-null   bool \n",
      " 39  Gender_Male                        1470 non-null   bool \n",
      " 40  JobRole_Healthcare Representative  1470 non-null   bool \n",
      " 41  JobRole_Human Resources            1470 non-null   bool \n",
      " 42  JobRole_Laboratory Technician      1470 non-null   bool \n",
      " 43  JobRole_Manager                    1470 non-null   bool \n",
      " 44  JobRole_Manufacturing Director     1470 non-null   bool \n",
      " 45  JobRole_Research Director          1470 non-null   bool \n",
      " 46  JobRole_Research Scientist         1470 non-null   bool \n",
      " 47  JobRole_Sales Executive            1470 non-null   bool \n",
      " 48  JobRole_Sales Representative       1470 non-null   bool \n",
      " 49  MaritalStatus_Divorced             1470 non-null   bool \n",
      " 50  MaritalStatus_Married              1470 non-null   bool \n",
      " 51  MaritalStatus_Single               1470 non-null   bool \n",
      "dtypes: bool(23), int64(29)\n",
      "memory usage: 366.2 KB\n",
      "==================== Data Loaded In ======================\n",
      "Duration: --- 0.0011258323987325032 Minutes ---\n"
     ]
    }
   ],
   "source": [
    "print(\"==================== Data Loading ======================\")\n",
    "start_time = time.time()\n",
    "df=pd.read_csv('MainEncodedData.csv')\n",
    "df.info()\n",
    "print(\"==================== Data Loaded In ======================\")\n",
    "print(\"Duration: --- %s Minutes ---\" % ((time.time() - start_time)/60))"
   ]
  },
  {
   "cell_type": "code",
   "execution_count": 24,
   "metadata": {},
   "outputs": [
    {
     "data": {
      "text/html": [
       "<div>\n",
       "<style scoped>\n",
       "    .dataframe tbody tr th:only-of-type {\n",
       "        vertical-align: middle;\n",
       "    }\n",
       "\n",
       "    .dataframe tbody tr th {\n",
       "        vertical-align: top;\n",
       "    }\n",
       "\n",
       "    .dataframe thead th {\n",
       "        text-align: right;\n",
       "    }\n",
       "</style>\n",
       "<table border=\"1\" class=\"dataframe\">\n",
       "  <thead>\n",
       "    <tr style=\"text-align: right;\">\n",
       "      <th></th>\n",
       "      <th>Unnamed: 0</th>\n",
       "      <th>Age</th>\n",
       "      <th>Attrition</th>\n",
       "      <th>BusinessTravel</th>\n",
       "      <th>DailyRate</th>\n",
       "      <th>DistanceFromHome</th>\n",
       "      <th>Education</th>\n",
       "      <th>EmployeeCount</th>\n",
       "      <th>EmployeeNumber</th>\n",
       "      <th>EnvironmentSatisfaction</th>\n",
       "      <th>HourlyRate</th>\n",
       "      <th>JobInvolvement</th>\n",
       "      <th>JobLevel</th>\n",
       "      <th>JobSatisfaction</th>\n",
       "      <th>MonthlyIncome</th>\n",
       "      <th>MonthlyRate</th>\n",
       "      <th>NumCompaniesWorked</th>\n",
       "      <th>OverTime</th>\n",
       "      <th>PercentSalaryHike</th>\n",
       "      <th>PerformanceRating</th>\n",
       "      <th>RelationshipSatisfaction</th>\n",
       "      <th>StockOptionLevel</th>\n",
       "      <th>TotalWorkingYears</th>\n",
       "      <th>TrainingTimesLastYear</th>\n",
       "      <th>WorkLifeBalance</th>\n",
       "      <th>...</th>\n",
       "      <th>YearsSinceLastPromotion</th>\n",
       "      <th>YearsWithCurrManager</th>\n",
       "      <th>Department_Human Resources</th>\n",
       "      <th>Department_Research &amp; Development</th>\n",
       "      <th>Department_Sales</th>\n",
       "      <th>EducationField_Human Resources</th>\n",
       "      <th>EducationField_Life Sciences</th>\n",
       "      <th>EducationField_Marketing</th>\n",
       "      <th>EducationField_Medical</th>\n",
       "      <th>EducationField_Other</th>\n",
       "      <th>EducationField_Technical Degree</th>\n",
       "      <th>Gender_Female</th>\n",
       "      <th>Gender_Male</th>\n",
       "      <th>JobRole_Healthcare Representative</th>\n",
       "      <th>JobRole_Human Resources</th>\n",
       "      <th>JobRole_Laboratory Technician</th>\n",
       "      <th>JobRole_Manager</th>\n",
       "      <th>JobRole_Manufacturing Director</th>\n",
       "      <th>JobRole_Research Director</th>\n",
       "      <th>JobRole_Research Scientist</th>\n",
       "      <th>JobRole_Sales Executive</th>\n",
       "      <th>JobRole_Sales Representative</th>\n",
       "      <th>MaritalStatus_Divorced</th>\n",
       "      <th>MaritalStatus_Married</th>\n",
       "      <th>MaritalStatus_Single</th>\n",
       "    </tr>\n",
       "  </thead>\n",
       "  <tbody>\n",
       "    <tr>\n",
       "      <th>0</th>\n",
       "      <td>0</td>\n",
       "      <td>41</td>\n",
       "      <td>1</td>\n",
       "      <td>1</td>\n",
       "      <td>1102</td>\n",
       "      <td>1</td>\n",
       "      <td>2</td>\n",
       "      <td>1</td>\n",
       "      <td>1</td>\n",
       "      <td>2</td>\n",
       "      <td>94</td>\n",
       "      <td>3</td>\n",
       "      <td>2</td>\n",
       "      <td>4</td>\n",
       "      <td>5993</td>\n",
       "      <td>19479</td>\n",
       "      <td>8</td>\n",
       "      <td>1</td>\n",
       "      <td>11</td>\n",
       "      <td>3</td>\n",
       "      <td>1</td>\n",
       "      <td>0</td>\n",
       "      <td>8</td>\n",
       "      <td>0</td>\n",
       "      <td>1</td>\n",
       "      <td>...</td>\n",
       "      <td>0</td>\n",
       "      <td>5</td>\n",
       "      <td>False</td>\n",
       "      <td>False</td>\n",
       "      <td>True</td>\n",
       "      <td>False</td>\n",
       "      <td>True</td>\n",
       "      <td>False</td>\n",
       "      <td>False</td>\n",
       "      <td>False</td>\n",
       "      <td>False</td>\n",
       "      <td>True</td>\n",
       "      <td>False</td>\n",
       "      <td>False</td>\n",
       "      <td>False</td>\n",
       "      <td>False</td>\n",
       "      <td>False</td>\n",
       "      <td>False</td>\n",
       "      <td>False</td>\n",
       "      <td>False</td>\n",
       "      <td>True</td>\n",
       "      <td>False</td>\n",
       "      <td>False</td>\n",
       "      <td>False</td>\n",
       "      <td>True</td>\n",
       "    </tr>\n",
       "    <tr>\n",
       "      <th>1</th>\n",
       "      <td>1</td>\n",
       "      <td>49</td>\n",
       "      <td>0</td>\n",
       "      <td>2</td>\n",
       "      <td>279</td>\n",
       "      <td>8</td>\n",
       "      <td>1</td>\n",
       "      <td>1</td>\n",
       "      <td>2</td>\n",
       "      <td>3</td>\n",
       "      <td>61</td>\n",
       "      <td>2</td>\n",
       "      <td>2</td>\n",
       "      <td>2</td>\n",
       "      <td>5130</td>\n",
       "      <td>24907</td>\n",
       "      <td>1</td>\n",
       "      <td>0</td>\n",
       "      <td>23</td>\n",
       "      <td>4</td>\n",
       "      <td>4</td>\n",
       "      <td>1</td>\n",
       "      <td>10</td>\n",
       "      <td>3</td>\n",
       "      <td>3</td>\n",
       "      <td>...</td>\n",
       "      <td>1</td>\n",
       "      <td>7</td>\n",
       "      <td>False</td>\n",
       "      <td>True</td>\n",
       "      <td>False</td>\n",
       "      <td>False</td>\n",
       "      <td>True</td>\n",
       "      <td>False</td>\n",
       "      <td>False</td>\n",
       "      <td>False</td>\n",
       "      <td>False</td>\n",
       "      <td>False</td>\n",
       "      <td>True</td>\n",
       "      <td>False</td>\n",
       "      <td>False</td>\n",
       "      <td>False</td>\n",
       "      <td>False</td>\n",
       "      <td>False</td>\n",
       "      <td>False</td>\n",
       "      <td>True</td>\n",
       "      <td>False</td>\n",
       "      <td>False</td>\n",
       "      <td>False</td>\n",
       "      <td>True</td>\n",
       "      <td>False</td>\n",
       "    </tr>\n",
       "    <tr>\n",
       "      <th>2</th>\n",
       "      <td>2</td>\n",
       "      <td>37</td>\n",
       "      <td>1</td>\n",
       "      <td>1</td>\n",
       "      <td>1373</td>\n",
       "      <td>2</td>\n",
       "      <td>2</td>\n",
       "      <td>1</td>\n",
       "      <td>4</td>\n",
       "      <td>4</td>\n",
       "      <td>92</td>\n",
       "      <td>2</td>\n",
       "      <td>1</td>\n",
       "      <td>3</td>\n",
       "      <td>2090</td>\n",
       "      <td>2396</td>\n",
       "      <td>6</td>\n",
       "      <td>1</td>\n",
       "      <td>15</td>\n",
       "      <td>3</td>\n",
       "      <td>2</td>\n",
       "      <td>0</td>\n",
       "      <td>7</td>\n",
       "      <td>3</td>\n",
       "      <td>3</td>\n",
       "      <td>...</td>\n",
       "      <td>0</td>\n",
       "      <td>0</td>\n",
       "      <td>False</td>\n",
       "      <td>True</td>\n",
       "      <td>False</td>\n",
       "      <td>False</td>\n",
       "      <td>False</td>\n",
       "      <td>False</td>\n",
       "      <td>False</td>\n",
       "      <td>True</td>\n",
       "      <td>False</td>\n",
       "      <td>False</td>\n",
       "      <td>True</td>\n",
       "      <td>False</td>\n",
       "      <td>False</td>\n",
       "      <td>True</td>\n",
       "      <td>False</td>\n",
       "      <td>False</td>\n",
       "      <td>False</td>\n",
       "      <td>False</td>\n",
       "      <td>False</td>\n",
       "      <td>False</td>\n",
       "      <td>False</td>\n",
       "      <td>False</td>\n",
       "      <td>True</td>\n",
       "    </tr>\n",
       "    <tr>\n",
       "      <th>3</th>\n",
       "      <td>3</td>\n",
       "      <td>33</td>\n",
       "      <td>0</td>\n",
       "      <td>2</td>\n",
       "      <td>1392</td>\n",
       "      <td>3</td>\n",
       "      <td>4</td>\n",
       "      <td>1</td>\n",
       "      <td>5</td>\n",
       "      <td>4</td>\n",
       "      <td>56</td>\n",
       "      <td>3</td>\n",
       "      <td>1</td>\n",
       "      <td>3</td>\n",
       "      <td>2909</td>\n",
       "      <td>23159</td>\n",
       "      <td>1</td>\n",
       "      <td>1</td>\n",
       "      <td>11</td>\n",
       "      <td>3</td>\n",
       "      <td>3</td>\n",
       "      <td>0</td>\n",
       "      <td>8</td>\n",
       "      <td>3</td>\n",
       "      <td>3</td>\n",
       "      <td>...</td>\n",
       "      <td>3</td>\n",
       "      <td>0</td>\n",
       "      <td>False</td>\n",
       "      <td>True</td>\n",
       "      <td>False</td>\n",
       "      <td>False</td>\n",
       "      <td>True</td>\n",
       "      <td>False</td>\n",
       "      <td>False</td>\n",
       "      <td>False</td>\n",
       "      <td>False</td>\n",
       "      <td>True</td>\n",
       "      <td>False</td>\n",
       "      <td>False</td>\n",
       "      <td>False</td>\n",
       "      <td>False</td>\n",
       "      <td>False</td>\n",
       "      <td>False</td>\n",
       "      <td>False</td>\n",
       "      <td>True</td>\n",
       "      <td>False</td>\n",
       "      <td>False</td>\n",
       "      <td>False</td>\n",
       "      <td>True</td>\n",
       "      <td>False</td>\n",
       "    </tr>\n",
       "    <tr>\n",
       "      <th>4</th>\n",
       "      <td>4</td>\n",
       "      <td>27</td>\n",
       "      <td>0</td>\n",
       "      <td>1</td>\n",
       "      <td>591</td>\n",
       "      <td>2</td>\n",
       "      <td>1</td>\n",
       "      <td>1</td>\n",
       "      <td>7</td>\n",
       "      <td>1</td>\n",
       "      <td>40</td>\n",
       "      <td>3</td>\n",
       "      <td>1</td>\n",
       "      <td>2</td>\n",
       "      <td>3468</td>\n",
       "      <td>16632</td>\n",
       "      <td>9</td>\n",
       "      <td>0</td>\n",
       "      <td>12</td>\n",
       "      <td>3</td>\n",
       "      <td>4</td>\n",
       "      <td>1</td>\n",
       "      <td>6</td>\n",
       "      <td>3</td>\n",
       "      <td>3</td>\n",
       "      <td>...</td>\n",
       "      <td>2</td>\n",
       "      <td>2</td>\n",
       "      <td>False</td>\n",
       "      <td>True</td>\n",
       "      <td>False</td>\n",
       "      <td>False</td>\n",
       "      <td>False</td>\n",
       "      <td>False</td>\n",
       "      <td>True</td>\n",
       "      <td>False</td>\n",
       "      <td>False</td>\n",
       "      <td>False</td>\n",
       "      <td>True</td>\n",
       "      <td>False</td>\n",
       "      <td>False</td>\n",
       "      <td>True</td>\n",
       "      <td>False</td>\n",
       "      <td>False</td>\n",
       "      <td>False</td>\n",
       "      <td>False</td>\n",
       "      <td>False</td>\n",
       "      <td>False</td>\n",
       "      <td>False</td>\n",
       "      <td>True</td>\n",
       "      <td>False</td>\n",
       "    </tr>\n",
       "  </tbody>\n",
       "</table>\n",
       "<p>5 rows × 52 columns</p>\n",
       "</div>"
      ],
      "text/plain": [
       "   Unnamed: 0  Age  Attrition  BusinessTravel  DailyRate  DistanceFromHome  \\\n",
       "0           0   41          1               1       1102                 1   \n",
       "1           1   49          0               2        279                 8   \n",
       "2           2   37          1               1       1373                 2   \n",
       "3           3   33          0               2       1392                 3   \n",
       "4           4   27          0               1        591                 2   \n",
       "\n",
       "   Education  EmployeeCount  EmployeeNumber  EnvironmentSatisfaction  \\\n",
       "0          2              1               1                        2   \n",
       "1          1              1               2                        3   \n",
       "2          2              1               4                        4   \n",
       "3          4              1               5                        4   \n",
       "4          1              1               7                        1   \n",
       "\n",
       "   HourlyRate  JobInvolvement  JobLevel  JobSatisfaction  MonthlyIncome  \\\n",
       "0          94               3         2                4           5993   \n",
       "1          61               2         2                2           5130   \n",
       "2          92               2         1                3           2090   \n",
       "3          56               3         1                3           2909   \n",
       "4          40               3         1                2           3468   \n",
       "\n",
       "   MonthlyRate  NumCompaniesWorked  OverTime  PercentSalaryHike  \\\n",
       "0        19479                   8         1                 11   \n",
       "1        24907                   1         0                 23   \n",
       "2         2396                   6         1                 15   \n",
       "3        23159                   1         1                 11   \n",
       "4        16632                   9         0                 12   \n",
       "\n",
       "   PerformanceRating  RelationshipSatisfaction  StockOptionLevel  \\\n",
       "0                  3                         1                 0   \n",
       "1                  4                         4                 1   \n",
       "2                  3                         2                 0   \n",
       "3                  3                         3                 0   \n",
       "4                  3                         4                 1   \n",
       "\n",
       "   TotalWorkingYears  TrainingTimesLastYear  WorkLifeBalance  ...  \\\n",
       "0                  8                      0                1  ...   \n",
       "1                 10                      3                3  ...   \n",
       "2                  7                      3                3  ...   \n",
       "3                  8                      3                3  ...   \n",
       "4                  6                      3                3  ...   \n",
       "\n",
       "   YearsSinceLastPromotion  YearsWithCurrManager  Department_Human Resources  \\\n",
       "0                        0                     5                       False   \n",
       "1                        1                     7                       False   \n",
       "2                        0                     0                       False   \n",
       "3                        3                     0                       False   \n",
       "4                        2                     2                       False   \n",
       "\n",
       "   Department_Research & Development  Department_Sales  \\\n",
       "0                              False              True   \n",
       "1                               True             False   \n",
       "2                               True             False   \n",
       "3                               True             False   \n",
       "4                               True             False   \n",
       "\n",
       "   EducationField_Human Resources  EducationField_Life Sciences  \\\n",
       "0                           False                          True   \n",
       "1                           False                          True   \n",
       "2                           False                         False   \n",
       "3                           False                          True   \n",
       "4                           False                         False   \n",
       "\n",
       "   EducationField_Marketing  EducationField_Medical  EducationField_Other  \\\n",
       "0                     False                   False                 False   \n",
       "1                     False                   False                 False   \n",
       "2                     False                   False                  True   \n",
       "3                     False                   False                 False   \n",
       "4                     False                    True                 False   \n",
       "\n",
       "   EducationField_Technical Degree  Gender_Female  Gender_Male  \\\n",
       "0                            False           True        False   \n",
       "1                            False          False         True   \n",
       "2                            False          False         True   \n",
       "3                            False           True        False   \n",
       "4                            False          False         True   \n",
       "\n",
       "   JobRole_Healthcare Representative  JobRole_Human Resources  \\\n",
       "0                              False                    False   \n",
       "1                              False                    False   \n",
       "2                              False                    False   \n",
       "3                              False                    False   \n",
       "4                              False                    False   \n",
       "\n",
       "   JobRole_Laboratory Technician  JobRole_Manager  \\\n",
       "0                          False            False   \n",
       "1                          False            False   \n",
       "2                           True            False   \n",
       "3                          False            False   \n",
       "4                           True            False   \n",
       "\n",
       "   JobRole_Manufacturing Director  JobRole_Research Director  \\\n",
       "0                           False                      False   \n",
       "1                           False                      False   \n",
       "2                           False                      False   \n",
       "3                           False                      False   \n",
       "4                           False                      False   \n",
       "\n",
       "   JobRole_Research Scientist  JobRole_Sales Executive  \\\n",
       "0                       False                     True   \n",
       "1                        True                    False   \n",
       "2                       False                    False   \n",
       "3                        True                    False   \n",
       "4                       False                    False   \n",
       "\n",
       "   JobRole_Sales Representative  MaritalStatus_Divorced  \\\n",
       "0                         False                   False   \n",
       "1                         False                   False   \n",
       "2                         False                   False   \n",
       "3                         False                   False   \n",
       "4                         False                   False   \n",
       "\n",
       "   MaritalStatus_Married  MaritalStatus_Single  \n",
       "0                  False                  True  \n",
       "1                   True                 False  \n",
       "2                  False                  True  \n",
       "3                   True                 False  \n",
       "4                   True                 False  \n",
       "\n",
       "[5 rows x 52 columns]"
      ]
     },
     "execution_count": 24,
     "metadata": {},
     "output_type": "execute_result"
    }
   ],
   "source": [
    "df.head()"
   ]
  },
  {
   "cell_type": "code",
   "execution_count": 25,
   "metadata": {},
   "outputs": [],
   "source": [
    "del df['Unnamed: 0']"
   ]
  },
  {
   "cell_type": "code",
   "execution_count": 26,
   "metadata": {},
   "outputs": [
    {
     "data": {
      "text/plain": [
       "(1470, 51)"
      ]
     },
     "execution_count": 26,
     "metadata": {},
     "output_type": "execute_result"
    }
   ],
   "source": [
    "df.shape"
   ]
  },
  {
   "cell_type": "markdown",
   "metadata": {},
   "source": [
    "### Breaking Data into 70% Training and 30% Testing"
   ]
  },
  {
   "cell_type": "code",
   "execution_count": 27,
   "metadata": {},
   "outputs": [
    {
     "name": "stdout",
     "output_type": "stream",
     "text": [
      "For Main Data Set : 1470\n",
      "For Train Set : 826\n",
      "For Validation Set : 276\n",
      "For Test Set : 368\n"
     ]
    }
   ],
   "source": [
    "start_time = time.time()\n",
    "\n",
    "train, test = sklearn.model_selection.train_test_split(df, train_size = 0.75,random_state=52)\n",
    "train, val = sklearn.model_selection.train_test_split(train, train_size = 0.75,random_state=52)\n",
    "print(\"For Main Data Set :\",df['Attrition'].count())\n",
    "print(\"For Train Set :\",train['Attrition'].count())\n",
    "print(\"For Validation Set :\",val['Attrition'].count())\n",
    "print(\"For Test Set :\",test['Attrition'].count())\n",
    "\n",
    "x_train=train.drop(train.columns[1], axis = 1)\n",
    "x_val=val.drop(val.columns[1], axis = 1)\n",
    "x_test=test.drop(test.columns[1], axis = 1)\n",
    "y_train=train['Attrition']\n",
    "y_val=val['Attrition']\n",
    "y_test=test['Attrition']"
   ]
  },
  {
   "cell_type": "code",
   "execution_count": 28,
   "metadata": {},
   "outputs": [],
   "source": [
    "from sklearn.preprocessing import StandardScaler\n",
    "\n",
    "# Define the scaler \n",
    "scaler = StandardScaler().fit(x_train)\n",
    "\n",
    "# Scale the train set\n",
    "X_train = scaler.transform(x_train)\n",
    "\n",
    "# Scale the train set\n",
    "X_val = scaler.transform(x_val)\n",
    "\n",
    "# Scale the test set\n",
    "X_test = scaler.transform(x_test)"
   ]
  },
  {
   "cell_type": "code",
   "execution_count": 29,
   "metadata": {},
   "outputs": [],
   "source": [
    "# Import `Sequential` from `keras.models`\n",
    "from keras.models import Sequential\n",
    "\n",
    "# Import `Dense` from `keras.layers`\n",
    "from keras.layers import Dense\n",
    "\n",
    "# Initialize the constructor\n",
    "model = Sequential()\n",
    "\n",
    "# Add an input layer \n",
    "model.add(Dense(32,kernel_initializer='uniform', activation='relu', input_shape=(50,)))\n",
    "\n",
    "model.add(Dense(8,kernel_initializer='uniform', activation='relu'))\n",
    "\n",
    "# Add an output layer \n",
    "model.add(Dense(1, kernel_initializer='uniform',activation='sigmoid'))"
   ]
  },
  {
   "cell_type": "code",
   "execution_count": 30,
   "metadata": {},
   "outputs": [
    {
     "name": "stdout",
     "output_type": "stream",
     "text": [
      "Epoch 1/20\n",
      "26/26 [==============================] - 1s 13ms/step - loss: 0.6869 - accuracy: 0.8039 - val_loss: 0.6780 - val_accuracy: 0.8297\n",
      "Epoch 2/20\n",
      "26/26 [==============================] - 0s 4ms/step - loss: 0.6601 - accuracy: 0.8378 - val_loss: 0.6352 - val_accuracy: 0.8297\n",
      "Epoch 3/20\n",
      "26/26 [==============================] - 0s 5ms/step - loss: 0.5861 - accuracy: 0.8378 - val_loss: 0.5384 - val_accuracy: 0.8297\n",
      "Epoch 4/20\n",
      "26/26 [==============================] - 0s 4ms/step - loss: 0.4672 - accuracy: 0.8378 - val_loss: 0.4501 - val_accuracy: 0.8297\n",
      "Epoch 5/20\n",
      "26/26 [==============================] - 0s 4ms/step - loss: 0.3824 - accuracy: 0.8378 - val_loss: 0.4218 - val_accuracy: 0.8297\n",
      "Epoch 6/20\n",
      "26/26 [==============================] - 0s 4ms/step - loss: 0.3477 - accuracy: 0.8378 - val_loss: 0.4176 - val_accuracy: 0.8297\n",
      "Epoch 7/20\n",
      "26/26 [==============================] - 0s 5ms/step - loss: 0.3294 - accuracy: 0.8378 - val_loss: 0.4163 - val_accuracy: 0.8297\n",
      "Epoch 8/20\n",
      "26/26 [==============================] - 0s 4ms/step - loss: 0.3167 - accuracy: 0.8378 - val_loss: 0.4169 - val_accuracy: 0.8297\n",
      "Epoch 9/20\n",
      "26/26 [==============================] - 0s 4ms/step - loss: 0.3063 - accuracy: 0.8378 - val_loss: 0.4172 - val_accuracy: 0.8297\n",
      "Epoch 10/20\n",
      "26/26 [==============================] - 0s 4ms/step - loss: 0.2970 - accuracy: 0.8378 - val_loss: 0.4194 - val_accuracy: 0.8297\n",
      "Epoch 11/20\n",
      "26/26 [==============================] - 0s 5ms/step - loss: 0.2878 - accuracy: 0.8378 - val_loss: 0.4249 - val_accuracy: 0.8297\n",
      "Epoch 12/20\n",
      "26/26 [==============================] - 0s 4ms/step - loss: 0.2787 - accuracy: 0.8499 - val_loss: 0.4287 - val_accuracy: 0.8333\n",
      "Epoch 13/20\n",
      "26/26 [==============================] - 0s 4ms/step - loss: 0.2702 - accuracy: 0.8729 - val_loss: 0.4318 - val_accuracy: 0.8333\n",
      "Epoch 14/20\n",
      "26/26 [==============================] - 0s 5ms/step - loss: 0.2615 - accuracy: 0.8874 - val_loss: 0.4382 - val_accuracy: 0.8333\n",
      "Epoch 15/20\n",
      "26/26 [==============================] - 0s 5ms/step - loss: 0.2535 - accuracy: 0.8959 - val_loss: 0.4434 - val_accuracy: 0.8225\n",
      "Epoch 16/20\n",
      "26/26 [==============================] - 0s 4ms/step - loss: 0.2457 - accuracy: 0.9056 - val_loss: 0.4490 - val_accuracy: 0.8333\n",
      "Epoch 17/20\n",
      "26/26 [==============================] - 0s 4ms/step - loss: 0.2376 - accuracy: 0.9128 - val_loss: 0.4572 - val_accuracy: 0.8297\n",
      "Epoch 18/20\n",
      "26/26 [==============================] - 0s 5ms/step - loss: 0.2313 - accuracy: 0.9177 - val_loss: 0.4641 - val_accuracy: 0.8406\n",
      "Epoch 19/20\n",
      "26/26 [==============================] - 0s 4ms/step - loss: 0.2225 - accuracy: 0.9237 - val_loss: 0.4673 - val_accuracy: 0.8333\n",
      "Epoch 20/20\n",
      "26/26 [==============================] - 0s 4ms/step - loss: 0.2159 - accuracy: 0.9322 - val_loss: 0.4741 - val_accuracy: 0.8297\n"
     ]
    }
   ],
   "source": [
    "model.compile(loss='binary_crossentropy',\n",
    "              optimizer='adam',\n",
    "              metrics=['accuracy'])\n",
    "                   \n",
    "mod=model.fit(X_train, y_train,epochs=20, batch_size=32, verbose=1,validation_data=(X_val,y_val))"
   ]
  },
  {
   "cell_type": "code",
   "execution_count": 31,
   "metadata": {},
   "outputs": [
    {
     "name": "stdout",
     "output_type": "stream",
     "text": [
      "12/12 [==============================] - 0s 3ms/step - loss: 0.3590 - accuracy: 0.8750\n",
      "[0.35899314284324646, 0.875]\n"
     ]
    }
   ],
   "source": [
    "score = model.evaluate(X_test, y_test,verbose=1)\n",
    "\n",
    "print(score)"
   ]
  },
  {
   "cell_type": "code",
   "execution_count": 32,
   "metadata": {},
   "outputs": [
    {
     "name": "stdout",
     "output_type": "stream",
     "text": [
      "12/12 [==============================] - 0s 2ms/step\n"
     ]
    }
   ],
   "source": [
    "y_pred = model.predict(X_test)"
   ]
  },
  {
   "cell_type": "code",
   "execution_count": 33,
   "metadata": {},
   "outputs": [
    {
     "data": {
      "text/plain": [
       "array([[0.00270377],\n",
       "       [0.03486118],\n",
       "       [0.07456455],\n",
       "       [0.519348  ],\n",
       "       [0.00208167]], dtype=float32)"
      ]
     },
     "execution_count": 33,
     "metadata": {},
     "output_type": "execute_result"
    }
   ],
   "source": [
    "y_pred[:5]"
   ]
  },
  {
   "cell_type": "code",
   "execution_count": 34,
   "metadata": {},
   "outputs": [],
   "source": [
    "y_p=list()\n",
    "for i in y_pred:\n",
    "    if i>0.5:\n",
    "        y_p.append(1)\n",
    "    else:\n",
    "        y_p.append(0)"
   ]
  },
  {
   "cell_type": "code",
   "execution_count": 35,
   "metadata": {},
   "outputs": [
    {
     "data": {
      "text/plain": [
       "1182    0\n",
       "302     0\n",
       "1279    1\n",
       "291     0\n",
       "1217    0\n",
       "Name: Attrition, dtype: int64"
      ]
     },
     "execution_count": 35,
     "metadata": {},
     "output_type": "execute_result"
    }
   ],
   "source": [
    "y_test[:5]"
   ]
  },
  {
   "cell_type": "code",
   "execution_count": 36,
   "metadata": {},
   "outputs": [
    {
     "data": {
      "text/plain": [
       "array([[300,  12],\n",
       "       [ 34,  22]], dtype=int64)"
      ]
     },
     "execution_count": 36,
     "metadata": {},
     "output_type": "execute_result"
    }
   ],
   "source": [
    "# Import the modules from `sklearn.metrics`\n",
    "from sklearn.metrics import confusion_matrix, precision_score, recall_score, f1_score, cohen_kappa_score\n",
    "\n",
    "# Confusion matrix\n",
    "confusion_matrix(y_test, y_p)\n"
   ]
  },
  {
   "cell_type": "markdown",
   "metadata": {},
   "source": [
    "### End Evaluation Metrics"
   ]
  },
  {
   "cell_type": "code",
   "execution_count": 38,
   "metadata": {},
   "outputs": [
    {
     "data": {
      "image/png": "[encoded data removed]",
      "text/plain": [
       "<Figure size 640x480 with 1 Axes>"
      ]
     },
     "metadata": {},
     "output_type": "display_data"
    },
    {
     "data": {
      "image/png": "[encoded data removed]",
      "text/plain": [
       "<Figure size 640x480 with 1 Axes>"
      ]
     },
     "metadata": {},
     "output_type": "display_data"
    }
   ],
   "source": [
    "accuracy = mod.history['accuracy']\n",
    "val_accuracy = mod.history['val_accuracy']\n",
    "loss = mod.history['loss']\n",
    "val_loss = mod.history['val_loss']\n",
    "epochs = range(len(accuracy))\n",
    "plt.plot(epochs, accuracy, 'bo', label='Training accuracy')\n",
    "plt.plot(epochs, val_accuracy, 'b', label='Validation accuracy')\n",
    "plt.title('Training and validation accuracy')\n",
    "plt.legend()\n",
    "plt.figure()\n",
    "plt.plot(epochs, loss, 'bo', label='Training loss')\n",
    "plt.plot(epochs, val_loss, 'b', label='Validation loss')\n",
    "plt.title('Training and validation loss')\n",
    "plt.legend()\n",
    "plt.show()\n"
   ]
  },
  {
   "cell_type": "code",
   "execution_count": 39,
   "metadata": {},
   "outputs": [
    {
     "name": "stdout",
     "output_type": "stream",
     "text": [
      "Model: \"sequential_1\"\n",
      "_________________________________________________________________\n",
      " Layer (type)                Output Shape              Param #   \n",
      "=================================================================\n",
      " dense_3 (Dense)             (None, 32)                1632      \n",
      "                                                                 \n",
      " dense_4 (Dense)             (None, 8)                 264       \n",
      "                                                                 \n",
      " dense_5 (Dense)             (None, 1)                 9         \n",
      "                                                                 \n",
      "=================================================================\n",
      "Total params: 1,905\n",
      "Trainable params: 1,905\n",
      "Non-trainable params: 0\n",
      "_________________________________________________________________\n"
     ]
    }
   ],
   "source": [
    "model.summary()"
   ]
  },
  {
   "cell_type": "code",
   "execution_count": 41,
   "metadata": {},
   "outputs": [
    {
     "name": "stdout",
     "output_type": "stream",
     "text": [
      "12/12 [==============================] - 0s 2ms/step\n",
      "Found 312 correct labels\n"
     ]
    }
   ],
   "source": [
    "import numpy as np\n",
    "\n",
    "# Ensure x_test is a NumPy array and has the correct data type\n",
    "x_test = np.array(x_test, dtype=np.float32)\n",
    "\n",
    "# Perform prediction\n",
    "predicted_classes = model.predict(x_test)\n",
    "\n",
    "# Process predictions to get class labels\n",
    "predicted_classes = np.argmax(np.round(predicted_classes), axis=1)\n",
    "\n",
    "# Compare predictions to true labels\n",
    "correct = np.where(predicted_classes == y_test)[0]\n",
    "print(\"Found %d correct labels\" % len(correct))\n"
   ]
  },
  {
   "cell_type": "code",
   "execution_count": 42,
   "metadata": {},
   "outputs": [
    {
     "name": "stdout",
     "output_type": "stream",
     "text": [
      "12/12 [==============================] - 0s 2ms/step\n",
      "Found 312 correct labels\n"
     ]
    }
   ],
   "source": [
    "predicted_classes = model.predict(x_test)\n",
    "predicted_classes = np.argmax(np.round(predicted_classes),axis=1)\n",
    "correct = np.where(predicted_classes==y_test)[0]\n",
    "print( \"Found %d correct labels\" % len(correct))"
   ]
  },
  {
   "cell_type": "code",
   "execution_count": 43,
   "metadata": {},
   "outputs": [
    {
     "name": "stdout",
     "output_type": "stream",
     "text": [
      "Found 56 incorrect labels\n"
     ]
    }
   ],
   "source": [
    "incorrect = np.where(predicted_classes!=y_test)[0]\n",
    "print (\"Found %d incorrect labels\" % len(incorrect))"
   ]
  },
  {
   "cell_type": "code",
   "execution_count": 44,
   "metadata": {},
   "outputs": [
    {
     "name": "stdout",
     "output_type": "stream",
     "text": [
      "              precision    recall  f1-score   support\n",
      "\n",
      "     Class 0       0.85      1.00      0.92       312\n",
      "     Class 1       0.00      0.00      0.00        56\n",
      "\n",
      "    accuracy                           0.85       368\n",
      "   macro avg       0.42      0.50      0.46       368\n",
      "weighted avg       0.72      0.85      0.78       368\n",
      "\n"
     ]
    }
   ],
   "source": [
    "from sklearn.metrics import classification_report\n",
    "target_names = [\"Class {}\".format(i) for i in range(2)]\n",
    "print(classification_report(y_test, predicted_classes, target_names=target_names))"
   ]
  },
  {
   "cell_type": "code",
   "execution_count": 45,
   "metadata": {},
   "outputs": [
    {
     "name": "stdout",
     "output_type": "stream",
     "text": [
      "ROC AUC: 0.68\n"
     ]
    },
    {
     "data": {
      "image/png": "[encoded data removed]",
      "text/plain": [
       "<Figure size 640x480 with 1 Axes>"
      ]
     },
     "metadata": {},
     "output_type": "display_data"
    }
   ],
   "source": [
    "fpr, tpr, _ = roc_curve(y_test, y_p)\n",
    " \n",
    "# Calculate the AUC\n",
    "roc_auc = auc(fpr, tpr)\n",
    "print('ROC AUC: %0.2f' % roc_auc)\n",
    " \n",
    "# Plot of a ROC curve for a specific class\n",
    "plt.figure()\n",
    "plt.plot(fpr, tpr, label='ROC curve (area = %0.2f)' % roc_auc)\n",
    "plt.plot([0, 1], [0, 1], 'k--')\n",
    "plt.xlim([0.0, 1.0])\n",
    "plt.ylim([0.0, 1.05])\n",
    "plt.xlabel('False Positive Rate')\n",
    "plt.ylabel('True Positive Rate')\n",
    "plt.title('ROC Curve')\n",
    "plt.legend(loc=\"lower right\")\n",
    "plt.show()"
   ]
  },
  {
   "cell_type": "code",
   "execution_count": 46,
   "metadata": {},
   "outputs": [
    {
     "data": {
      "text/plain": [
       "0.42248908296943233"
      ]
     },
     "execution_count": 46,
     "metadata": {},
     "output_type": "execute_result"
    }
   ],
   "source": [
    "from sklearn.metrics import cohen_kappa_score\n",
    "cohen_kappa_score(y_test,y_p)"
   ]
  },
  {
   "cell_type": "code",
   "execution_count": 47,
   "metadata": {},
   "outputs": [
    {
     "data": {
      "text/plain": [
       "0.4888888888888888"
      ]
     },
     "execution_count": 47,
     "metadata": {},
     "output_type": "execute_result"
    }
   ],
   "source": [
    "# F1 score\n",
    "f1_score(y_test,y_p)"
   ]
  },
  {
   "cell_type": "code",
   "execution_count": null,
   "metadata": {},
   "outputs": [],
   "source": []
  }
 ],
 "metadata": {
  "kernelspec": {
   "display_name": "Python 3 (ipykernel)",
   "language": "python",
   "name": "python3"
  },
  "language_info": {
   "codemirror_mode": {
    "name": "ipython",
    "version": 3
   },
   "file_extension": ".py",
   "mimetype": "text/x-python",
   "name": "python",
   "nbconvert_exporter": "python",
   "pygments_lexer": "ipython3",
   "version": "3.9.13"
  }
 },
 "nbformat": 4,
 "nbformat_minor": 2
}
